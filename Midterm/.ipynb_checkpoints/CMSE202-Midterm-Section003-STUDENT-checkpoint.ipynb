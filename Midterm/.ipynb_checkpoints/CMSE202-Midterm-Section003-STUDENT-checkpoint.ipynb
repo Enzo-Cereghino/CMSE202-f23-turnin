{
 "cells": [
  {
   "cell_type": "markdown",
   "metadata": {},
   "source": [
    "## <p style=\"text-align: right;\"> &#9989; Enzo Thor Cereghino</p>"
   ]
  },
  {
   "cell_type": "markdown",
   "metadata": {},
   "source": [
    "# CMSE 202 Midterm (Section 003 - Fall 2023)\n",
    "\n",
    "The goal of this midterm is to give you the opportunity to test out some of the skills that you've developed thus far this semester. In particular, you'll practice setting up a GitHub repository, committing and pushing repository changes, downloading data with command line tools, performing some data analysis, possibly using a new Python package, and writing a python class. You should find that you have all of the skills necessary to complete this exam with even just eight weeks of CMSE 202 under your belt!\n",
    "\n",
    "You are encouraged to look through the entire exam before you get started so that you can appropriately budget your time and understand the broad goals of the exam. Once you've read through it, try doing Parts 1 and 2 first so that you have your repository set up and you download all necessary data files as they will be necessary to complete the assigned tasks. Let your instructor know right away if you have problems downloading the data!\n",
    "\n",
    "The exam is set up so that even if you get stuck on one part there are opportunities to get points on the other parts, so consider jumping ahead if you feel like you aren't making progress and then come back later if you have time.\n",
    "\n",
    "**Important note about using online resources**: This exam is \"open internet\". That means that you can look up documentation, google how to accomplish certain Python tasks, etc. Being able to effectively use the internet for computational modeling and data science is a very important skill, so we want to make sure you have the opportunity to exercise that skill. **However**: The use of any person-to-person communication software is absolutely not acceptable. If you are seen accessing your email, using a chat program (e.g. Slack), or any sort of collaborative cloud storage or document software (e.g. Google Documents), you will be at risk for receiving a zero on the exam.\n",
    "\n",
    "**NOTE: If you use any source for more than a line of code, you must cite the reference in your code (as a comment or in a markdown cell) at each location where you used an external source. This includes any generative AI support (ChatGPT, Claude, GitHub Copilot, etc))**\n",
    "\n",
    "**Keep your eyes on your screen!** Unfortunately, there isn't enough space in the room for everyone to sit at their own table so please do your best to keep your eyes on your own screen. This exam is designed to give *you* the opportunity to show the instructor what you can do and you should hold yourself accountable for maintaining a high level of academic integrity. If any of the instructors observe suspicious behavior, you will, again, risk receiving a zero.\n",
    "\n",
    "The maximum number of points is: **40 Points**"
   ]
  },
  {
   "cell_type": "markdown",
   "metadata": {},
   "source": [
    "---\n",
    "## Part 0: Academic integrity statement\n",
    "\n",
    "Read the following statement and edit the markdown text to put your name in the statement. This is your commitment to doing your own authentic work on this exam. (REQUIRED!)"
   ]
  },
  {
   "cell_type": "markdown",
   "metadata": {},
   "source": [
    "> I, **Enzo Cereghino**, affirm that this exam represents my own authetic work, without the use of any unpermitted aids or resources or person-to-person communication. I understand that this exam an an opportunity to showcase my own progress in developing and improving my computational skills and have done my best to demonstrate those skills."
   ]
  },
  {
   "cell_type": "markdown",
   "metadata": {},
   "source": [
    "---\n",
    "## Part 1: Add to your Git repository to track your progress on your exam (4 points)\n",
    "\n",
    "Before you get to far along in the exam, you're going to add it to the `cmse202-f23-turnin` repository you created in class (or in Homework 1) so that you can track your progress on the exam and preserve the final version that you turn in. In order to do this you need to\n",
    "\n",
    "**&#9989; Do the following**:\n",
    "\n",
    "1. Navigate to your `cmse202-f23-turnin` repository and create a new directory called `midterm`.\n",
    "2. Move this notebook into that **new directory** in your repository, then **add it and commit it to your repository**.\n",
    "1. Finally, to test that everything is working, \"git push\" the file so that it ends up in your GitHub repository.\n",
    "\n",
    "**Important**: Double check you've added your Professor and your TA as collaborators to your \"turnin\" respository (you should have done this in your homework assignment).\n",
    "\n",
    "**Also important**: Make sure that the version of this notebook that you are working on is the same one that you just added to your repository! If you are working on a different copy of the notebook, **none of your changes will be tracked**!\n",
    "\n",
    "If everything went as intended, the file should now show up on your GitHub account in the \"`cmse202-f23-turnin`\" repository inside the `midterm` directory that you just created.  Periodically, **you'll be asked to commit your changes to the repository and push them to the remote GitHub location**. Of course, you can always commit your changes more often than that, if you wish.  It can be good to get into a habit of committing your changes any time you make a significant modification, or when you stop working on the project for a bit.\n",
    "\n",
    "&#9989; **Do this**: Before you move on, put the command that your instructor should run to clone your repository in the markdown cell below."
   ]
  },
  {
   "cell_type": "markdown",
   "metadata": {},
   "source": [
    "``` bash\n",
    "# git clone\n",
    "\n",
    "```"
   ]
  },
  {
   "cell_type": "markdown",
   "metadata": {},
   "source": [
    "---\n",
    "## Part 2: Downloading and analyzing unfamiliar data (15 points)"
   ]
  },
  {
   "cell_type": "raw",
   "metadata": {
    "vscode": {
     "languageId": "plaintext"
    }
   },
   "source": [
    "\n",
    "In this part of the exam, you will use load and visualize a dataset that you probably have not used before. \n",
    "\n",
    "In particular, you will be working with Gross Domestic Product (GDP) per capita data, which has been collected by the Organisation for Economic Co-operation and Development (OECD) (an intergovernmental organisation with 38 member countries, founded in 1961 to stimulate economic progress and world trade).\n",
    "\n",
    "Download the datafile `gdp_annual_usd_oecd.csv`.  The direct link to the file is:\n",
    "\n",
    "```https://raw.githubusercontent.com/msu-cmse-courses/cmse202-supplemental-data/6b2fa928e4b02622d3e63b36a94b90c73f8424e5/data/gdp_annual_usd_oecd.csv```\n"
   ]
  },
  {
   "cell_type": "markdown",
   "metadata": {},
   "source": [
    "&#9989; **Question 2.1 [1 point]**: **Do this now:** Save this files in the same directory as your notebook so you can load it directly. **Then, in the cell below, put the command line command(s) you used to download the file.** If you did not use a command line tool to download the files, write down the command(s) that *would* have downloaded the files."
   ]
  },
  {
   "cell_type": "code",
   "execution_count": 4,
   "metadata": {},
   "outputs": [
    {
     "name": "stdout",
     "output_type": "stream",
     "text": [
      "  % Total    % Received % Xferd  Average Speed   Time    Time     Time  Current\r\n",
      "                                 Dload  Upload   Total   Spent    Left  Speed\r\n",
      "\r",
      "  0     0    0     0    0     0      0      0 --:--:-- --:--:-- --:--:--     0\r",
      "100  115k  100  115k    0     0  4112k      0 --:--:-- --:--:-- --:--:-- 4112k\r\n"
     ]
    }
   ],
   "source": [
    "\n",
    "# Put the command(s) you used for fetching the data files here!\n",
    "\n",
    "!curl https://raw.githubusercontent.com/msu-cmse-courses/cmse202-supplemental-data/6b2fa928e4b02622d3e63b36a94b90c73f8424e5/data/gdp_annual_usd_oecd.csv -O"
   ]
  },
  {
   "cell_type": "markdown",
   "metadata": {},
   "source": [
    "&#9989; **Question 2.2 [2 points]**: To get started, read in the `gdp_annual_usd_oecd.csv` dataset, and then display the first 5 rows. I suggest you use `Pandas` for this read."
   ]
  },
  {
   "cell_type": "code",
   "execution_count": 7,
   "metadata": {},
   "outputs": [
    {
     "data": {
      "text/html": [
       "<div>\n",
       "<style scoped>\n",
       "    .dataframe tbody tr th:only-of-type {\n",
       "        vertical-align: middle;\n",
       "    }\n",
       "\n",
       "    .dataframe tbody tr th {\n",
       "        vertical-align: top;\n",
       "    }\n",
       "\n",
       "    .dataframe thead th {\n",
       "        text-align: right;\n",
       "    }\n",
       "</style>\n",
       "<table border=\"1\" class=\"dataframe\">\n",
       "  <thead>\n",
       "    <tr style=\"text-align: right;\">\n",
       "      <th></th>\n",
       "      <th>Unnamed: 0</th>\n",
       "      <th>LOCATION</th>\n",
       "      <th>INDICATOR</th>\n",
       "      <th>SUBJECT</th>\n",
       "      <th>MEASURE</th>\n",
       "      <th>FREQUENCY</th>\n",
       "      <th>TIME</th>\n",
       "      <th>Value</th>\n",
       "      <th>Flag Codes</th>\n",
       "    </tr>\n",
       "  </thead>\n",
       "  <tbody>\n",
       "    <tr>\n",
       "      <th>0</th>\n",
       "      <td>63</td>\n",
       "      <td>AUS</td>\n",
       "      <td>GDP</td>\n",
       "      <td>TOT</td>\n",
       "      <td>USD_CAP</td>\n",
       "      <td>A</td>\n",
       "      <td>1960</td>\n",
       "      <td>2412.627589</td>\n",
       "      <td>NaN</td>\n",
       "    </tr>\n",
       "    <tr>\n",
       "      <th>1</th>\n",
       "      <td>64</td>\n",
       "      <td>AUS</td>\n",
       "      <td>GDP</td>\n",
       "      <td>TOT</td>\n",
       "      <td>USD_CAP</td>\n",
       "      <td>A</td>\n",
       "      <td>1961</td>\n",
       "      <td>2383.188902</td>\n",
       "      <td>NaN</td>\n",
       "    </tr>\n",
       "    <tr>\n",
       "      <th>2</th>\n",
       "      <td>65</td>\n",
       "      <td>AUS</td>\n",
       "      <td>GDP</td>\n",
       "      <td>TOT</td>\n",
       "      <td>USD_CAP</td>\n",
       "      <td>A</td>\n",
       "      <td>1962</td>\n",
       "      <td>2577.332834</td>\n",
       "      <td>NaN</td>\n",
       "    </tr>\n",
       "    <tr>\n",
       "      <th>3</th>\n",
       "      <td>66</td>\n",
       "      <td>AUS</td>\n",
       "      <td>GDP</td>\n",
       "      <td>TOT</td>\n",
       "      <td>USD_CAP</td>\n",
       "      <td>A</td>\n",
       "      <td>1963</td>\n",
       "      <td>2752.620592</td>\n",
       "      <td>NaN</td>\n",
       "    </tr>\n",
       "    <tr>\n",
       "      <th>4</th>\n",
       "      <td>67</td>\n",
       "      <td>AUS</td>\n",
       "      <td>GDP</td>\n",
       "      <td>TOT</td>\n",
       "      <td>USD_CAP</td>\n",
       "      <td>A</td>\n",
       "      <td>1964</td>\n",
       "      <td>2902.590472</td>\n",
       "      <td>NaN</td>\n",
       "    </tr>\n",
       "  </tbody>\n",
       "</table>\n",
       "</div>"
      ],
      "text/plain": [
       "   Unnamed: 0 LOCATION INDICATOR SUBJECT  MEASURE FREQUENCY  TIME  \\\n",
       "0          63      AUS       GDP     TOT  USD_CAP         A  1960   \n",
       "1          64      AUS       GDP     TOT  USD_CAP         A  1961   \n",
       "2          65      AUS       GDP     TOT  USD_CAP         A  1962   \n",
       "3          66      AUS       GDP     TOT  USD_CAP         A  1963   \n",
       "4          67      AUS       GDP     TOT  USD_CAP         A  1964   \n",
       "\n",
       "         Value Flag Codes  \n",
       "0  2412.627589        NaN  \n",
       "1  2383.188902        NaN  \n",
       "2  2577.332834        NaN  \n",
       "3  2752.620592        NaN  \n",
       "4  2902.590472        NaN  "
      ]
     },
     "execution_count": 7,
     "metadata": {},
     "output_type": "execute_result"
    }
   ],
   "source": [
    "### Put your code for Question 2.2 here\n",
    "import pandas as pd\n",
    "\n",
    "GDP_dat = pd.read_csv('gdp_annual_usd_oecd.csv')\n",
    "GDP_dat.head(5)"
   ]
  },
  {
   "cell_type": "markdown",
   "metadata": {},
   "source": [
    "&#9989; **Question 2.3 [5 points]**: You should notice that the dataset contains nine columns.  The columns we will be using are the `LOCATION` (the country code), `TIME` (year), and `Value` (GDP per capita).\n",
    "\n",
    "\n",
    "**Do the following**: \n",
    "Pull out the GDP per capita data for the United States (LOCATION Code: `USA`), Canada (LOCATION Code: `CAN`), and Mexico (Location Code: `MEX`).  Plot the GDP per capita data for the United States, Canada, and Mexico as a function of time (GDP per capita on the y-axis; time on x-axis).  Make sure to label your axes."
   ]
  },
  {
   "cell_type": "code",
   "execution_count": 37,
   "metadata": {},
   "outputs": [
    {
     "data": {
      "text/plain": [
       "<matplotlib.legend.Legend at 0x7f44d9a8e820>"
      ]
     },
     "execution_count": 37,
     "metadata": {},
     "output_type": "execute_result"
    },
    {
     "data": {
      "image/png": "[encoded data removed]",
      "text/plain": [
       "<Figure size 432x288 with 1 Axes>"
      ]
     },
     "metadata": {
      "needs_background": "light"
     },
     "output_type": "display_data"
    }
   ],
   "source": [
    "### Put your code for Question 2.3 here\n",
    "import matplotlib.pyplot as plt\n",
    "\n",
    "\n",
    "mask = \"USA\"==GDP_dat[\"LOCATION\"]\n",
    "GDP_USA = GDP_dat[mask]\n",
    "mask2 = \"CAN\"==GDP_dat[\"LOCATION\"]\n",
    "GDP_CAN = GDP_dat[mask2]\n",
    "mask3 = \"MEX\"==GDP_dat[\"LOCATION\"]\n",
    "GDP_MEX = GDP_dat[mask3]\n",
    "\n",
    "plt.plot(GDP_USA['TIME'], GDP_USA['Value'], label = \"USA\")\n",
    "plt.plot(GDP_MEX['TIME'], GDP_MEX['Value'], label= \"Mexico\")\n",
    "plt.plot(GDP_CAN['TIME'], GDP_CAN['Value'], label = \"Canada\")\n",
    "plt.title(\"GDP per capita vs TIme\")\n",
    "plt.ylabel(\"GDP per capita\")\n",
    "plt.xlabel(\"Year\")\n",
    "plt.legend()"
   ]
  },
  {
   "cell_type": "markdown",
   "metadata": {},
   "source": [
    "&#9989; **Question 2.4 [3 points]**: From the original dataset, across all countries, write code to find which two countries had the highest GDP per capita in 2018?  What was the GDP per capita for those countries in 2018?\n"
   ]
  },
  {
   "cell_type": "code",
   "execution_count": 65,
   "metadata": {},
   "outputs": [
    {
     "name": "stdout",
     "output_type": "stream",
     "text": [
      "LUX\n",
      "SGP\n"
     ]
    }
   ],
   "source": [
    "### Put your code for Question 2.4 here\n",
    "import numpy as np\n",
    "mask = 2018==GDP_dat[\"TIME\"]\n",
    "GDP_2018 = GDP_dat[mask]\n",
    "\n",
    "index=np.argsort(GDP_2018['Value'])\n",
    "\n",
    "print(GDP_2018.iloc[index[2519]][\"LOCATION\"])\n",
    "print(GDP_2018.iloc[index[2497]][\"LOCATION\"])"
   ]
  },
  {
   "cell_type": "markdown",
   "metadata": {},
   "source": [
    "&#9989; **Question 2.5 [4 points]**: The following figure presents the GDP per capita for the countries with the 10 lowest GDP's per capita in 2018.  The values plotted are normalized (divided) by the GDP per capita from the country with the maximum GDP per captia. \n",
    "\n",
    "<img src=\"https://raw.githubusercontent.com/msu-cmse-courses/cmse202-supplemental-data/main/data/lowest_gdp_per_capita.png\" width=400px alt=\"GDP Graphic\" border=\"0\">"
   ]
  },
  {
   "cell_type": "markdown",
   "metadata": {},
   "source": [
    "**Do this: explain in a few sentences how you would go about creating a plot like this using the dataset you already loaded.** You are not required to re-create the plot, but you should describe in your own words what you would do in order to create it. You should include enough details to describe at least 4 required steps to generate this graphic.  If you can think of any issues that might occur when you create this version of the plot, point them out."
   ]
  },
  {
   "cell_type": "markdown",
   "metadata": {},
   "source": [
    "<font size=+1>&#9998; First you would need to sort the data out to a given year, that being 2018. Then you would need to find the index of the 10 lowest GDP per capita countries by having their values sorted. After that you would take the country name and its GDP per capita and divide it by the max value. Then make a histogram plot of each of these countries  </font>"
   ]
  },
  {
   "cell_type": "markdown",
   "metadata": {},
   "source": [
    "---\n",
    "### &#128721; STOP\n",
    "**Pause to commit your changes to your Git repository!**\n",
    "\n",
    "Take a moment to save your notebook, commit the changes to your Git repository using the commit message \"**Committing Part 2**\", and push the changes to GitHub.\n",
    "\n",
    "---"
   ]
  },
  {
   "cell_type": "markdown",
   "metadata": {},
   "source": [
    "---\n",
    "## Part 3: Working with a new Python package (8 points)"
   ]
  },
  {
   "cell_type": "markdown",
   "metadata": {},
   "source": [
    "In this part of the exam, you will install a Python package that you probably have not used before, and use it to perform simple tasks. Specifically, you will use a package called `RapidFuzz`.  This package has multiple fuzzy string matching algorithms to determine the similarity of different strings.  *Fuzzy* matching is general term for a matching algorithm based on probabalistic criteria.  "
   ]
  },
  {
   "cell_type": "markdown",
   "metadata": {},
   "source": [
    "&#9989; **Question 3.1 [2 points]**: It is possible that you already have `rapidfuzz` installed since it is part of Anaconda. However, if you don't, you should be able to install the package in the same way we have used previously to install Python packages.\n",
    "\n",
    "**Do this**: Make sure the `rapidfuzz` Python package is installed. If it isn't, install it.\n",
    "\n",
    "What command could someone use to install `rapidfuzz` if it wasn't already installed? **Include this command in the cell below.**"
   ]
  },
  {
   "cell_type": "code",
   "execution_count": 66,
   "metadata": {},
   "outputs": [
    {
     "name": "stdout",
     "output_type": "stream",
     "text": [
      "Defaulting to user installation because normal site-packages is not writeable\n",
      "Requirement already satisfied: rapidfuzz in /opt/anaconda3/lib/python3.8/site-packages (2.10.3)\n",
      "Requirement already satisfied: jarowinkler<2.0.0,>=1.2.2 in /opt/anaconda3/lib/python3.8/site-packages (from rapidfuzz) (1.2.3)\n"
     ]
    }
   ],
   "source": [
    "\n",
    "# Put the command(s) for installing `rapidfuzz` here\n",
    "!pip install rapidfuzz"
   ]
  },
  {
   "cell_type": "markdown",
   "metadata": {},
   "source": [
    "Once `rapidfuzz` is installed, running the following cell should not result in an error message. **You might need to re-start your Jupyter kernel after installing the package for this to work.** (Once everything works, it should give you no output at all.)"
   ]
  },
  {
   "cell_type": "code",
   "execution_count": 67,
   "metadata": {},
   "outputs": [],
   "source": [
    "# Running this cell should just work and not yield any output if rapidfuzz is installed and available\n",
    "from rapidfuzz import fuzz"
   ]
  },
  {
   "cell_type": "markdown",
   "metadata": {},
   "source": [
    "&#9989; **Question 3.2 [2 points]**: Look through the `rapidfuzz` documentation to identify one method for comparing strings and returning a similarity score.  There are multiple methods; any one method is fine for this exam.  For whatever method you select, read the documentation to determine the distance metric that is calculated (for example, it could be the \"Novel MSU Distance\" between strings)\n",
    "\n",
    "Below, using the comparison method, print the similarity score for the following two strings and report the name of the distance metric used:\n",
    "```\n",
    "s1 = 'apples'\n",
    "s2 = 'bananas'\n",
    "```"
   ]
  },
  {
   "cell_type": "code",
   "execution_count": 72,
   "metadata": {},
   "outputs": [
    {
     "name": "stdout",
     "output_type": "stream",
     "text": [
      "6 Using Damerau Levenshtein metric\n"
     ]
    }
   ],
   "source": [
    "### Put your code for Question 3.2 here; answer should print the similarity score (a number) and the name of the distance metric used\n",
    "# For example\n",
    "# The \"Novel MSU Distance\" between 'apples' and 'bananas' is 0.5\n",
    "from rapidfuzz.distance import DamerauLevenshtein\n",
    "print(DamerauLevenshtein.distance(\"apples\", \"bannanas\"), \"Using Damerau Levenshtein metric\") # Adpated from rapidfuzz's github page"
   ]
  },
  {
   "cell_type": "markdown",
   "metadata": {},
   "source": [
    "&#9989; **Question 3.3 [4 points]**: Now, loop through the list defined below in the variable `list_of_strings` and print the similarity between the string `apple` and all of the strings in the list.\n"
   ]
  },
  {
   "cell_type": "code",
   "execution_count": 75,
   "metadata": {},
   "outputs": [
    {
     "name": "stdout",
     "output_type": "stream",
     "text": [
      "0\n",
      "1\n",
      "2\n",
      "2\n",
      "10\n",
      "5\n",
      "5\n"
     ]
    }
   ],
   "source": [
    "\n",
    "\n",
    "list_of_strings=[]\n",
    "# Example strings\n",
    "list_of_strings.append(\"apple\")\n",
    "list_of_strings.append(\"apples\")\n",
    "list_of_strings.append(\"apples!\")\n",
    "list_of_strings.append(\"Apples\")\n",
    "list_of_strings.append(\"Michigan Apples\")\n",
    "list_of_strings.append(\"banana\")\n",
    "list_of_strings.append(\"orange\")\n",
    "\n",
    "for i in range(len(list_of_strings)):\n",
    "    print(DamerauLevenshtein.distance(\"apple\", list_of_strings[i]))\n",
    "# Answer should print similarity of each string in the list above to the string 'apple'"
   ]
  },
  {
   "cell_type": "markdown",
   "metadata": {},
   "source": [
    "---\n",
    "### &#128721; STOP\n",
    "**Pause to commit your changes to your Git repository!**\n",
    "\n",
    "Take a moment to save your notebook, commit the changes to your Git repository using the commit message \"**Committing Part 3**\", and push the changes to GitHub.\n",
    "\n",
    "---"
   ]
  },
  {
   "cell_type": "markdown",
   "metadata": {},
   "source": [
    "---\n",
    "## Part 4: Writing and using Python classes (13 points)"
   ]
  },
  {
   "cell_type": "markdown",
   "metadata": {},
   "source": [
    "&#9989; **Question 4.1 [3 points]**: The following cell contains a class called `CheckerBoard` which constructs a checkerboard (a board game board) and displays the board in a rudimentary way.\n",
    "\n",
    "**TO DO:** In two cells below, create an object from this class for an 8x8 size board and use the provided method to display the board.  "
   ]
  },
  {
   "cell_type": "code",
   "execution_count": 79,
   "metadata": {},
   "outputs": [],
   "source": [
    "class Checkerboard:\n",
    "    def __init__(self, size):\n",
    "        self.size = size\n",
    "        self.board = []  # Will be a list of lists\n",
    "        for row in range(self.size):\n",
    "            self.board.append([])\n",
    "            for col in range(self.size):\n",
    "                if (row + col) % 2 == 0:\n",
    "                    self.board[row].append(\"■ \")  # Black square\n",
    "                else:\n",
    "                    self.board[row].append(\"□ \")  # White square\n",
    "\n",
    "    def draw(self):\n",
    "        for row in range(self.size):\n",
    "            for col in range(self.size):\n",
    "                print(self.board[row][col], end=\"\")\n",
    "            print()  # Move to the next row\n",
    "\n",
    "    def modify_board(self,row,col,value):\n",
    "        self.board[row][col] = value+' '\n",
    "\n",
    "    def display(self):\n",
    "        self.draw()\n",
    "\n",
    "\n"
   ]
  },
  {
   "cell_type": "code",
   "execution_count": 93,
   "metadata": {},
   "outputs": [
    {
     "name": "stdout",
     "output_type": "stream",
     "text": [
      "■ □ ■ □ ■ □ ■ □ \n",
      "□ ■ □ ■ □ ■ □ ■ \n",
      "■ □ ■ □ ■ □ ■ □ \n",
      "□ ■ □ ■ □ ■ □ ■ \n",
      "■ □ ■ □ ■ □ ■ □ \n",
      "□ ■ □ ■ □ ■ □ ■ \n",
      "■ □ ■ □ ■ □ ■ □ \n",
      "□ ■ □ ■ □ ■ □ ■ \n"
     ]
    }
   ],
   "source": [
    "### Put your code for Question 4.1 here\n",
    "board = Checkerboard(8)\n",
    "\n",
    "board.display()"
   ]
  },
  {
   "cell_type": "markdown",
   "metadata": {},
   "source": [
    "&#9989; **Question 4.2 [6 points]:** The game of checkers is a two person game, in which one person moves Red pieces and one person moves Black pieces.  Through the course of the game a piece starts as a regular piece and can become a King piece if it reaches the other side of the board.  \n",
    "\n",
    "Create a class to represent a checker piece that takes two inputs: color and whether the piece is a King piece.  \n",
    "\n",
    "The class should have a method entitled `who_am_i` that returns a string character describing the type of piece.  This character returned should be one of four things:\n",
    "1. r  (character for Red Regular Piece)\n",
    "2. b   (character for Black Regular Piece)\n",
    "3. R   (character for Red King Piece)\n",
    "4. B    (character for Black King Piece)\n",
    "\n",
    "A partially complete class is provided below.  Complete the class to have the functionality discussed above. Two cells down you will find a test piece of code that should work once you have everything completed."
   ]
  },
  {
   "cell_type": "code",
   "execution_count": 94,
   "metadata": {},
   "outputs": [],
   "source": [
    "# Fix and complete the following class definition for a CheckerPiece for question 4.2\n",
    "class CheckerPiece:\n",
    "    def __init__(self, color, is_king = False):\n",
    "        self.color = color  # 'Red' or 'Black'\n",
    "        self.king = is_king\n",
    "    \n",
    "    def who_am_i(self):\n",
    "        if self.color == 'Red':\n",
    "            if self.king == True:\n",
    "                return \"R\"\n",
    "            else: \n",
    "                return \"r\"\n",
    "        if self.color == \"Black\":\n",
    "            if self.king == True:\n",
    "                return \"B\"\n",
    "            else:\n",
    "                return \"b\"\n",
    "        "
   ]
  },
  {
   "cell_type": "markdown",
   "metadata": {},
   "source": [
    "When you are complete the following cell should return:\n",
    "```\n",
    "B\n",
    "r\n",
    "R\n",
    "``` "
   ]
  },
  {
   "cell_type": "code",
   "execution_count": 95,
   "metadata": {},
   "outputs": [
    {
     "name": "stdout",
     "output_type": "stream",
     "text": [
      "B\n",
      "r\n",
      "R\n"
     ]
    }
   ],
   "source": [
    "\n",
    "# test code\n",
    "# DO NOT MODIFY THIS CODE; THIS IS FOR TESTING YOUR ANSWER ABOVE\n",
    "c1 = CheckerPiece('Black', True)\n",
    "print(c1.who_am_i())\n",
    "c2 = CheckerPiece('Red', False)\n",
    "print(c2.who_am_i())\n",
    "c3 = CheckerPiece('Red', True)\n",
    "print(c3.who_am_i())"
   ]
  },
  {
   "cell_type": "markdown",
   "metadata": {},
   "source": [
    "&#9989; **Question 4.3 [4 points]:** Now, use the object you created from the `CheckerBoard` class in question 4.1;  Modify the checker board `board` attribute in this object (using the method provided) to place \n",
    "1. a regular red piece at location `[2,2]`, \n",
    "2. a regular black piece at location `[5,5]`, \n",
    "3. and a king black piece at location `[0,6]`.  \n",
    "\n",
    "Note: The `CheckerBoard` class has a method for modifying the string value at each location in the board.  \n",
    "\n",
    "Then, display the board with these three pieces on it.\n",
    "\n",
    "Note: All you need to do is change the string value at a certain location in the checkerboard.  You do not need to perform object composition inside the class.  \n",
    "\n",
    "When successful, your checkboard should look something like this:\n",
    "```\n",
    "■ □ ■ □ ■ □ B □ \n",
    "□ ■ □ ■ □ ■ □ ■ \n",
    "■ □ r □ ■ □ ■ □ \n",
    "□ ■ □ ■ □ ■ □ ■ \n",
    "■ □ ■ □ ■ □ ■ □ \n",
    "□ ■ □ ■ □ b □ ■ \n",
    "■ □ ■ □ ■ □ ■ □ \n",
    "□ ■ □ ■ □ ■ □ ■ \n",
    "\n",
    "```\n"
   ]
  },
  {
   "cell_type": "code",
   "execution_count": 111,
   "metadata": {},
   "outputs": [
    {
     "name": "stdout",
     "output_type": "stream",
     "text": [
      "■ □ ■ □ ■ □ B■ \n",
      "□ ■ □ ■ □ ■ □ ■ \n",
      "■ □ r■ □ ■ □ ■ \n",
      "□ ■ □ ■ □ ■ □ ■ \n",
      "■ □ ■ □ ■ □ ■ □ \n",
      "□ ■ □ ■ □ b■ □ \n",
      "■ □ ■ □ ■ □ ■ □ \n",
      "□ ■ □ ■ □ ■ □ ■ \n"
     ]
    }
   ],
   "source": [
    "# Put your code for question 4.3 here and display the board\n",
    "class Checkerboard:\n",
    "    def __init__(self, size):\n",
    "        self.size = size\n",
    "        self.board = []  # Will be a list of lists\n",
    "        for row in range(self.size):\n",
    "            self.board.append([])\n",
    "            for col in range(self.size):\n",
    "                \n",
    "                if row == 0 and col == 6: \n",
    "                    self.board[row].append(\"B\")\n",
    "                if row == 2 and col == 2:\n",
    "                    self.board[row].append(\"r\")\n",
    "                if row == 5 and col == 5:\n",
    "                    self.board[row].append(\"b\")\n",
    "                if (row + col) % 2 == 0:\n",
    "                    self.board[row].append(\"■ \")  # Black square\n",
    "                \n",
    "                else:\n",
    "                    self.board[row].append(\"□ \")  # White square\n",
    "\n",
    "    def draw(self):\n",
    "        for row in range(self.size):\n",
    "            for col in range(self.size):\n",
    "                print(self.board[row][col], end=\"\")\n",
    "            print()  # Move to the next row\n",
    "\n",
    "    def modify_board(self,row,col,value):\n",
    "        self.board[row][col] = value+' '\n",
    "\n",
    "    def display(self):\n",
    "        self.draw()\n",
    "\n",
    "\n",
    "board = Checkerboard(8)\n",
    "board.display()"
   ]
  },
  {
   "cell_type": "markdown",
   "metadata": {},
   "source": [
    "---\n",
    "### &#128721; STOP\n",
    "**Pause to commit your changes to your Git repository!**\n",
    "\n",
    "Take a moment to save your notebook, commit the changes to your Git repository using the commit message \"**Committing Part 4**\", and push the changes to GitHub.\n",
    "\n",
    "---"
   ]
  },
  {
   "cell_type": "markdown",
   "metadata": {},
   "source": [
    "## You're done! Congrats on finishing your CMSE 202 Midterm!\n",
    "\n",
    "Make sure all of your changes to your repository are committed and pushed to GitHub. Also upload a copy of this notebook to the dropbox on D2L in case something went wrong with your repository or if you couldn't get the repository to work."
   ]
  }
 ],
 "metadata": {
  "kernelspec": {
   "display_name": "Python 3.8",
   "language": "python",
   "name": "python3"
  },
  "language_info": {
   "codemirror_mode": {
    "name": "ipython",
    "version": 3
   },
   "file_extension": ".py",
   "mimetype": "text/x-python",
   "name": "python",
   "nbconvert_exporter": "python",
   "pygments_lexer": "ipython3",
   "version": "3.8.8"
  }
 },
 "nbformat": 4,
 "nbformat_minor": 4
}
